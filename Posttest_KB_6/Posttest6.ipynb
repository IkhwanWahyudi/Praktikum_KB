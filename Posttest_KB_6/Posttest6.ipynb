{
 "cells": [
  {
   "cell_type": "markdown",
   "metadata": {},
   "source": [
    "# Link Dataset\n",
    "\n",
    "Dikarenakan ukuran dataset yang terlalu besar(42MB), maka untuk dataset saya upload di gdrive, berikut link Gdrive dataset:\n",
    "\n",
    "[Belgium Population Classification](https://drive.google.com/file/d/1WGAMXm3Pkl7sp2xvdJQPbsOa4Z-MpESc/view?usp=sharing)"
   ]
  },
  {
   "cell_type": "markdown",
   "metadata": {},
   "source": [
    "Import library yang diperlukan untuk melakukan preprocessing(Data Cleaning, Data Transforming) dan DNN"
   ]
  },
  {
   "cell_type": "code",
   "execution_count": 25,
   "metadata": {},
   "outputs": [],
   "source": [
    "import pandas as pd\n",
    "import matplotlib.pyplot as plt\n",
    "from sklearn.model_selection import train_test_split\n",
    "from sklearn.impute import SimpleImputer\n",
    "from sklearn.preprocessing import MinMaxScaler, StandardScaler, OneHotEncoder, OrdinalEncoder\n",
    "from tensorflow.keras import Sequential, layers, callbacks"
   ]
  },
  {
   "cell_type": "markdown",
   "metadata": {},
   "source": [
    "Membaca dataset"
   ]
  },
  {
   "cell_type": "code",
   "execution_count": 26,
   "metadata": {},
   "outputs": [
    {
     "data": {
      "text/html": [
       "<div>\n",
       "<style scoped>\n",
       "    .dataframe tbody tr th:only-of-type {\n",
       "        vertical-align: middle;\n",
       "    }\n",
       "\n",
       "    .dataframe tbody tr th {\n",
       "        vertical-align: top;\n",
       "    }\n",
       "\n",
       "    .dataframe thead th {\n",
       "        text-align: right;\n",
       "    }\n",
       "</style>\n",
       "<table border=\"1\" class=\"dataframe\">\n",
       "  <thead>\n",
       "    <tr style=\"text-align: right;\">\n",
       "      <th></th>\n",
       "      <th>MUNICIPALITY REFNIS CODE</th>\n",
       "      <th>MUNICIPALITY NAME</th>\n",
       "      <th>DISTRICT REFNIS CODE</th>\n",
       "      <th>DISTRICT NAME</th>\n",
       "      <th>PROVINCE REFNIS CODE</th>\n",
       "      <th>PROVINCE NAME</th>\n",
       "      <th>REGION REFNIS CODE</th>\n",
       "      <th>REGION NAME</th>\n",
       "      <th>GENDER</th>\n",
       "      <th>NATIONALITY</th>\n",
       "      <th>CIVIL CODE STATUS</th>\n",
       "      <th>AGE</th>\n",
       "      <th>POPULATION</th>\n",
       "    </tr>\n",
       "  </thead>\n",
       "  <tbody>\n",
       "    <tr>\n",
       "      <th>0</th>\n",
       "      <td>71024</td>\n",
       "      <td>Herk-de-Stad</td>\n",
       "      <td>71000</td>\n",
       "      <td>Hasselt</td>\n",
       "      <td>70000.0</td>\n",
       "      <td>Limburg</td>\n",
       "      <td>2000</td>\n",
       "      <td>Flemish Region</td>\n",
       "      <td>F</td>\n",
       "      <td>Belgian</td>\n",
       "      <td>Married</td>\n",
       "      <td>39</td>\n",
       "      <td>42</td>\n",
       "    </tr>\n",
       "    <tr>\n",
       "      <th>1</th>\n",
       "      <td>71037</td>\n",
       "      <td>Lummen</td>\n",
       "      <td>71000</td>\n",
       "      <td>Hasselt</td>\n",
       "      <td>70000.0</td>\n",
       "      <td>Limburg</td>\n",
       "      <td>2000</td>\n",
       "      <td>Flemish Region</td>\n",
       "      <td>M</td>\n",
       "      <td>Belgian</td>\n",
       "      <td>Married</td>\n",
       "      <td>82</td>\n",
       "      <td>24</td>\n",
       "    </tr>\n",
       "    <tr>\n",
       "      <th>2</th>\n",
       "      <td>71011</td>\n",
       "      <td>Diepenbeek</td>\n",
       "      <td>71000</td>\n",
       "      <td>Hasselt</td>\n",
       "      <td>70000.0</td>\n",
       "      <td>Limburg</td>\n",
       "      <td>2000</td>\n",
       "      <td>Flemish Region</td>\n",
       "      <td>F</td>\n",
       "      <td>Belgian</td>\n",
       "      <td>Married</td>\n",
       "      <td>42</td>\n",
       "      <td>51</td>\n",
       "    </tr>\n",
       "    <tr>\n",
       "      <th>3</th>\n",
       "      <td>71016</td>\n",
       "      <td>Genk</td>\n",
       "      <td>71000</td>\n",
       "      <td>Hasselt</td>\n",
       "      <td>70000.0</td>\n",
       "      <td>Limburg</td>\n",
       "      <td>2000</td>\n",
       "      <td>Flemish Region</td>\n",
       "      <td>M</td>\n",
       "      <td>Belgian</td>\n",
       "      <td>Married</td>\n",
       "      <td>63</td>\n",
       "      <td>277</td>\n",
       "    </tr>\n",
       "    <tr>\n",
       "      <th>4</th>\n",
       "      <td>71017</td>\n",
       "      <td>Gingelom</td>\n",
       "      <td>71000</td>\n",
       "      <td>Hasselt</td>\n",
       "      <td>70000.0</td>\n",
       "      <td>Limburg</td>\n",
       "      <td>2000</td>\n",
       "      <td>Flemish Region</td>\n",
       "      <td>F</td>\n",
       "      <td>Belgian</td>\n",
       "      <td>Married</td>\n",
       "      <td>30</td>\n",
       "      <td>14</td>\n",
       "    </tr>\n",
       "    <tr>\n",
       "      <th>...</th>\n",
       "      <td>...</td>\n",
       "      <td>...</td>\n",
       "      <td>...</td>\n",
       "      <td>...</td>\n",
       "      <td>...</td>\n",
       "      <td>...</td>\n",
       "      <td>...</td>\n",
       "      <td>...</td>\n",
       "      <td>...</td>\n",
       "      <td>...</td>\n",
       "      <td>...</td>\n",
       "      <td>...</td>\n",
       "      <td>...</td>\n",
       "    </tr>\n",
       "    <tr>\n",
       "      <th>465413</th>\n",
       "      <td>92141</td>\n",
       "      <td>La Bruy�re</td>\n",
       "      <td>92000</td>\n",
       "      <td>Namen</td>\n",
       "      <td>90000.0</td>\n",
       "      <td>Namen</td>\n",
       "      <td>3000</td>\n",
       "      <td>Walloon Region</td>\n",
       "      <td>F</td>\n",
       "      <td>Alien</td>\n",
       "      <td>Divorced</td>\n",
       "      <td>64</td>\n",
       "      <td>1</td>\n",
       "    </tr>\n",
       "    <tr>\n",
       "      <th>465414</th>\n",
       "      <td>46024</td>\n",
       "      <td>Stekene</td>\n",
       "      <td>46000</td>\n",
       "      <td>Sint-Niklaas</td>\n",
       "      <td>40000.0</td>\n",
       "      <td>Oost-Vlaanderen</td>\n",
       "      <td>2000</td>\n",
       "      <td>Flemish Region</td>\n",
       "      <td>M</td>\n",
       "      <td>Alien</td>\n",
       "      <td>Divorced</td>\n",
       "      <td>67</td>\n",
       "      <td>2</td>\n",
       "    </tr>\n",
       "    <tr>\n",
       "      <th>465415</th>\n",
       "      <td>46024</td>\n",
       "      <td>Stekene</td>\n",
       "      <td>46000</td>\n",
       "      <td>Sint-Niklaas</td>\n",
       "      <td>40000.0</td>\n",
       "      <td>Oost-Vlaanderen</td>\n",
       "      <td>2000</td>\n",
       "      <td>Flemish Region</td>\n",
       "      <td>M</td>\n",
       "      <td>Alien</td>\n",
       "      <td>Divorced</td>\n",
       "      <td>74</td>\n",
       "      <td>1</td>\n",
       "    </tr>\n",
       "    <tr>\n",
       "      <th>465416</th>\n",
       "      <td>46024</td>\n",
       "      <td>Stekene</td>\n",
       "      <td>46000</td>\n",
       "      <td>Sint-Niklaas</td>\n",
       "      <td>40000.0</td>\n",
       "      <td>Oost-Vlaanderen</td>\n",
       "      <td>2000</td>\n",
       "      <td>Flemish Region</td>\n",
       "      <td>M</td>\n",
       "      <td>Alien</td>\n",
       "      <td>Divorced</td>\n",
       "      <td>81</td>\n",
       "      <td>1</td>\n",
       "    </tr>\n",
       "    <tr>\n",
       "      <th>465417</th>\n",
       "      <td>92141</td>\n",
       "      <td>La Bruy�re</td>\n",
       "      <td>92000</td>\n",
       "      <td>Namen</td>\n",
       "      <td>90000.0</td>\n",
       "      <td>Namen</td>\n",
       "      <td>3000</td>\n",
       "      <td>Walloon Region</td>\n",
       "      <td>F</td>\n",
       "      <td>Alien</td>\n",
       "      <td>Divorced</td>\n",
       "      <td>63</td>\n",
       "      <td>1</td>\n",
       "    </tr>\n",
       "  </tbody>\n",
       "</table>\n",
       "<p>465418 rows × 13 columns</p>\n",
       "</div>"
      ],
      "text/plain": [
       "        MUNICIPALITY REFNIS CODE MUNICIPALITY NAME  DISTRICT REFNIS CODE  \\\n",
       "0                          71024      Herk-de-Stad                 71000   \n",
       "1                          71037            Lummen                 71000   \n",
       "2                          71011        Diepenbeek                 71000   \n",
       "3                          71016              Genk                 71000   \n",
       "4                          71017          Gingelom                 71000   \n",
       "...                          ...               ...                   ...   \n",
       "465413                     92141        La Bruy�re                 92000   \n",
       "465414                     46024           Stekene                 46000   \n",
       "465415                     46024           Stekene                 46000   \n",
       "465416                     46024           Stekene                 46000   \n",
       "465417                     92141        La Bruy�re                 92000   \n",
       "\n",
       "        DISTRICT NAME  PROVINCE REFNIS CODE     PROVINCE NAME  \\\n",
       "0             Hasselt               70000.0           Limburg   \n",
       "1             Hasselt               70000.0           Limburg   \n",
       "2             Hasselt               70000.0           Limburg   \n",
       "3             Hasselt               70000.0           Limburg   \n",
       "4             Hasselt               70000.0           Limburg   \n",
       "...               ...                   ...               ...   \n",
       "465413          Namen               90000.0             Namen   \n",
       "465414   Sint-Niklaas               40000.0   Oost-Vlaanderen   \n",
       "465415   Sint-Niklaas               40000.0   Oost-Vlaanderen   \n",
       "465416   Sint-Niklaas               40000.0   Oost-Vlaanderen   \n",
       "465417          Namen               90000.0             Namen   \n",
       "\n",
       "        REGION REFNIS CODE     REGION NAME GENDER NATIONALITY  \\\n",
       "0                     2000  Flemish Region      F     Belgian   \n",
       "1                     2000  Flemish Region      M     Belgian   \n",
       "2                     2000  Flemish Region      F     Belgian   \n",
       "3                     2000  Flemish Region      M     Belgian   \n",
       "4                     2000  Flemish Region      F     Belgian   \n",
       "...                    ...             ...    ...         ...   \n",
       "465413                3000  Walloon Region      F       Alien   \n",
       "465414                2000  Flemish Region      M       Alien   \n",
       "465415                2000  Flemish Region      M       Alien   \n",
       "465416                2000  Flemish Region      M       Alien   \n",
       "465417                3000  Walloon Region      F       Alien   \n",
       "\n",
       "       CIVIL CODE STATUS  AGE  POPULATION  \n",
       "0                Married   39          42  \n",
       "1                Married   82          24  \n",
       "2                Married   42          51  \n",
       "3                Married   63         277  \n",
       "4                Married   30          14  \n",
       "...                  ...  ...         ...  \n",
       "465413          Divorced   64           1  \n",
       "465414          Divorced   67           2  \n",
       "465415          Divorced   74           1  \n",
       "465416          Divorced   81           1  \n",
       "465417          Divorced   63           1  \n",
       "\n",
       "[465418 rows x 13 columns]"
      ]
     },
     "execution_count": 26,
     "metadata": {},
     "output_type": "execute_result"
    }
   ],
   "source": [
    "df = pd.read_csv(\"BELGIUM_POPULATION_STRUCTURE_2018.csv\")\n",
    "df"
   ]
  },
  {
   "cell_type": "markdown",
   "metadata": {},
   "source": [
    "# Data Preprocessing"
   ]
  },
  {
   "cell_type": "markdown",
   "metadata": {},
   "source": [
    "## Data Cleaning"
   ]
  },
  {
   "cell_type": "markdown",
   "metadata": {},
   "source": [
    "Memeriksa jumlah nilai null pada dataset"
   ]
  },
  {
   "cell_type": "code",
   "execution_count": 27,
   "metadata": {},
   "outputs": [
    {
     "data": {
      "text/plain": [
       "MUNICIPALITY REFNIS CODE        0\n",
       "MUNICIPALITY NAME               0\n",
       "DISTRICT REFNIS CODE            0\n",
       "DISTRICT NAME                   0\n",
       "PROVINCE REFNIS CODE        21425\n",
       "PROVINCE NAME               21425\n",
       "REGION REFNIS CODE              0\n",
       "REGION NAME                     0\n",
       "GENDER                          0\n",
       "NATIONALITY                     0\n",
       "CIVIL CODE STATUS               0\n",
       "AGE                             0\n",
       "POPULATION                      0\n",
       "dtype: int64"
      ]
     },
     "execution_count": 27,
     "metadata": {},
     "output_type": "execute_result"
    }
   ],
   "source": [
    "df.isna().sum()"
   ]
  },
  {
   "cell_type": "markdown",
   "metadata": {},
   "source": [
    "## Data Transforming"
   ]
  },
  {
   "cell_type": "markdown",
   "metadata": {},
   "source": [
    "Menggunakan SimpleImputer dengan strategi \"most_frequent\" untuk mengisi nilai yang hilang (missing values) dalam kolom 'PROVINCE REFNIS CODE' dan 'PROVINCE NAME' dengan nilai yang paling sering muncul dalam masing-masing kolomnya."
   ]
  },
  {
   "cell_type": "code",
   "execution_count": 28,
   "metadata": {},
   "outputs": [],
   "source": [
    "imputer = SimpleImputer(strategy=\"most_frequent\")\n",
    "df[\"PROVINCE REFNIS CODE\"] = imputer.fit_transform(df[[\"PROVINCE REFNIS CODE\"]])\n",
    "df[\"PROVINCE NAME\"] = imputer.fit_transform(df[[\"PROVINCE NAME\"]])"
   ]
  },
  {
   "cell_type": "markdown",
   "metadata": {},
   "source": [
    "Memeriksa jumlah nilai null pada dataset"
   ]
  },
  {
   "cell_type": "code",
   "execution_count": 29,
   "metadata": {},
   "outputs": [
    {
     "data": {
      "text/plain": [
       "MUNICIPALITY REFNIS CODE    0\n",
       "MUNICIPALITY NAME           0\n",
       "DISTRICT REFNIS CODE        0\n",
       "DISTRICT NAME               0\n",
       "PROVINCE REFNIS CODE        0\n",
       "PROVINCE NAME               0\n",
       "REGION REFNIS CODE          0\n",
       "REGION NAME                 0\n",
       "GENDER                      0\n",
       "NATIONALITY                 0\n",
       "CIVIL CODE STATUS           0\n",
       "AGE                         0\n",
       "POPULATION                  0\n",
       "dtype: int64"
      ]
     },
     "execution_count": 29,
     "metadata": {},
     "output_type": "execute_result"
    }
   ],
   "source": [
    "df.isna().sum()"
   ]
  },
  {
   "cell_type": "markdown",
   "metadata": {},
   "source": []
  },
  {
   "cell_type": "markdown",
   "metadata": {},
   "source": [
    "Melakukan beberapa transformasi data pada beberapa kolom di dataset, termasuk meng-encode kolom 'CIVIL CODE STATUS', 'GENDER', dan 'NATIONALITY' ke dalam bentuk numerik dengan bantuan OrdinalEncoder, melakukan normalisasi Min-Max pada kolom 'AGE', dan melakukan standardisasi pada kolom 'POPULATION' untuk mempersiapkan data untuk pemrosesan lebih lanjut."
   ]
  },
  {
   "cell_type": "code",
   "execution_count": 30,
   "metadata": {},
   "outputs": [
    {
     "data": {
      "text/html": [
       "<div>\n",
       "<style scoped>\n",
       "    .dataframe tbody tr th:only-of-type {\n",
       "        vertical-align: middle;\n",
       "    }\n",
       "\n",
       "    .dataframe tbody tr th {\n",
       "        vertical-align: top;\n",
       "    }\n",
       "\n",
       "    .dataframe thead th {\n",
       "        text-align: right;\n",
       "    }\n",
       "</style>\n",
       "<table border=\"1\" class=\"dataframe\">\n",
       "  <thead>\n",
       "    <tr style=\"text-align: right;\">\n",
       "      <th></th>\n",
       "      <th>MUNICIPALITY REFNIS CODE</th>\n",
       "      <th>MUNICIPALITY NAME</th>\n",
       "      <th>DISTRICT REFNIS CODE</th>\n",
       "      <th>DISTRICT NAME</th>\n",
       "      <th>PROVINCE REFNIS CODE</th>\n",
       "      <th>PROVINCE NAME</th>\n",
       "      <th>REGION REFNIS CODE</th>\n",
       "      <th>REGION NAME</th>\n",
       "      <th>GENDER</th>\n",
       "      <th>NATIONALITY</th>\n",
       "      <th>CIVIL CODE STATUS</th>\n",
       "      <th>AGE</th>\n",
       "      <th>POPULATION</th>\n",
       "    </tr>\n",
       "  </thead>\n",
       "  <tbody>\n",
       "    <tr>\n",
       "      <th>0</th>\n",
       "      <td>71024</td>\n",
       "      <td>Herk-de-Stad</td>\n",
       "      <td>71000</td>\n",
       "      <td>Hasselt</td>\n",
       "      <td>70000.0</td>\n",
       "      <td>Limburg</td>\n",
       "      <td>2000</td>\n",
       "      <td>Flemish Region</td>\n",
       "      <td>0.0</td>\n",
       "      <td>1.0</td>\n",
       "      <td>1.0</td>\n",
       "      <td>0.39</td>\n",
       "      <td>0.275423</td>\n",
       "    </tr>\n",
       "    <tr>\n",
       "      <th>1</th>\n",
       "      <td>71037</td>\n",
       "      <td>Lummen</td>\n",
       "      <td>71000</td>\n",
       "      <td>Hasselt</td>\n",
       "      <td>70000.0</td>\n",
       "      <td>Limburg</td>\n",
       "      <td>2000</td>\n",
       "      <td>Flemish Region</td>\n",
       "      <td>1.0</td>\n",
       "      <td>1.0</td>\n",
       "      <td>1.0</td>\n",
       "      <td>0.82</td>\n",
       "      <td>-0.006945</td>\n",
       "    </tr>\n",
       "    <tr>\n",
       "      <th>2</th>\n",
       "      <td>71011</td>\n",
       "      <td>Diepenbeek</td>\n",
       "      <td>71000</td>\n",
       "      <td>Hasselt</td>\n",
       "      <td>70000.0</td>\n",
       "      <td>Limburg</td>\n",
       "      <td>2000</td>\n",
       "      <td>Flemish Region</td>\n",
       "      <td>0.0</td>\n",
       "      <td>1.0</td>\n",
       "      <td>1.0</td>\n",
       "      <td>0.42</td>\n",
       "      <td>0.416606</td>\n",
       "    </tr>\n",
       "    <tr>\n",
       "      <th>3</th>\n",
       "      <td>71016</td>\n",
       "      <td>Genk</td>\n",
       "      <td>71000</td>\n",
       "      <td>Hasselt</td>\n",
       "      <td>70000.0</td>\n",
       "      <td>Limburg</td>\n",
       "      <td>2000</td>\n",
       "      <td>Flemish Region</td>\n",
       "      <td>1.0</td>\n",
       "      <td>1.0</td>\n",
       "      <td>1.0</td>\n",
       "      <td>0.63</td>\n",
       "      <td>3.961885</td>\n",
       "    </tr>\n",
       "    <tr>\n",
       "      <th>4</th>\n",
       "      <td>71017</td>\n",
       "      <td>Gingelom</td>\n",
       "      <td>71000</td>\n",
       "      <td>Hasselt</td>\n",
       "      <td>70000.0</td>\n",
       "      <td>Limburg</td>\n",
       "      <td>2000</td>\n",
       "      <td>Flemish Region</td>\n",
       "      <td>0.0</td>\n",
       "      <td>1.0</td>\n",
       "      <td>1.0</td>\n",
       "      <td>0.30</td>\n",
       "      <td>-0.163815</td>\n",
       "    </tr>\n",
       "    <tr>\n",
       "      <th>...</th>\n",
       "      <td>...</td>\n",
       "      <td>...</td>\n",
       "      <td>...</td>\n",
       "      <td>...</td>\n",
       "      <td>...</td>\n",
       "      <td>...</td>\n",
       "      <td>...</td>\n",
       "      <td>...</td>\n",
       "      <td>...</td>\n",
       "      <td>...</td>\n",
       "      <td>...</td>\n",
       "      <td>...</td>\n",
       "      <td>...</td>\n",
       "    </tr>\n",
       "    <tr>\n",
       "      <th>465413</th>\n",
       "      <td>92141</td>\n",
       "      <td>La Bruy�re</td>\n",
       "      <td>92000</td>\n",
       "      <td>Namen</td>\n",
       "      <td>90000.0</td>\n",
       "      <td>Namen</td>\n",
       "      <td>3000</td>\n",
       "      <td>Walloon Region</td>\n",
       "      <td>0.0</td>\n",
       "      <td>0.0</td>\n",
       "      <td>0.0</td>\n",
       "      <td>0.64</td>\n",
       "      <td>-0.367747</td>\n",
       "    </tr>\n",
       "    <tr>\n",
       "      <th>465414</th>\n",
       "      <td>46024</td>\n",
       "      <td>Stekene</td>\n",
       "      <td>46000</td>\n",
       "      <td>Sint-Niklaas</td>\n",
       "      <td>40000.0</td>\n",
       "      <td>Oost-Vlaanderen</td>\n",
       "      <td>2000</td>\n",
       "      <td>Flemish Region</td>\n",
       "      <td>1.0</td>\n",
       "      <td>0.0</td>\n",
       "      <td>0.0</td>\n",
       "      <td>0.67</td>\n",
       "      <td>-0.352060</td>\n",
       "    </tr>\n",
       "    <tr>\n",
       "      <th>465415</th>\n",
       "      <td>46024</td>\n",
       "      <td>Stekene</td>\n",
       "      <td>46000</td>\n",
       "      <td>Sint-Niklaas</td>\n",
       "      <td>40000.0</td>\n",
       "      <td>Oost-Vlaanderen</td>\n",
       "      <td>2000</td>\n",
       "      <td>Flemish Region</td>\n",
       "      <td>1.0</td>\n",
       "      <td>0.0</td>\n",
       "      <td>0.0</td>\n",
       "      <td>0.74</td>\n",
       "      <td>-0.367747</td>\n",
       "    </tr>\n",
       "    <tr>\n",
       "      <th>465416</th>\n",
       "      <td>46024</td>\n",
       "      <td>Stekene</td>\n",
       "      <td>46000</td>\n",
       "      <td>Sint-Niklaas</td>\n",
       "      <td>40000.0</td>\n",
       "      <td>Oost-Vlaanderen</td>\n",
       "      <td>2000</td>\n",
       "      <td>Flemish Region</td>\n",
       "      <td>1.0</td>\n",
       "      <td>0.0</td>\n",
       "      <td>0.0</td>\n",
       "      <td>0.81</td>\n",
       "      <td>-0.367747</td>\n",
       "    </tr>\n",
       "    <tr>\n",
       "      <th>465417</th>\n",
       "      <td>92141</td>\n",
       "      <td>La Bruy�re</td>\n",
       "      <td>92000</td>\n",
       "      <td>Namen</td>\n",
       "      <td>90000.0</td>\n",
       "      <td>Namen</td>\n",
       "      <td>3000</td>\n",
       "      <td>Walloon Region</td>\n",
       "      <td>0.0</td>\n",
       "      <td>0.0</td>\n",
       "      <td>0.0</td>\n",
       "      <td>0.63</td>\n",
       "      <td>-0.367747</td>\n",
       "    </tr>\n",
       "  </tbody>\n",
       "</table>\n",
       "<p>465418 rows × 13 columns</p>\n",
       "</div>"
      ],
      "text/plain": [
       "        MUNICIPALITY REFNIS CODE MUNICIPALITY NAME  DISTRICT REFNIS CODE  \\\n",
       "0                          71024      Herk-de-Stad                 71000   \n",
       "1                          71037            Lummen                 71000   \n",
       "2                          71011        Diepenbeek                 71000   \n",
       "3                          71016              Genk                 71000   \n",
       "4                          71017          Gingelom                 71000   \n",
       "...                          ...               ...                   ...   \n",
       "465413                     92141        La Bruy�re                 92000   \n",
       "465414                     46024           Stekene                 46000   \n",
       "465415                     46024           Stekene                 46000   \n",
       "465416                     46024           Stekene                 46000   \n",
       "465417                     92141        La Bruy�re                 92000   \n",
       "\n",
       "        DISTRICT NAME  PROVINCE REFNIS CODE     PROVINCE NAME  \\\n",
       "0             Hasselt               70000.0           Limburg   \n",
       "1             Hasselt               70000.0           Limburg   \n",
       "2             Hasselt               70000.0           Limburg   \n",
       "3             Hasselt               70000.0           Limburg   \n",
       "4             Hasselt               70000.0           Limburg   \n",
       "...               ...                   ...               ...   \n",
       "465413          Namen               90000.0             Namen   \n",
       "465414   Sint-Niklaas               40000.0   Oost-Vlaanderen   \n",
       "465415   Sint-Niklaas               40000.0   Oost-Vlaanderen   \n",
       "465416   Sint-Niklaas               40000.0   Oost-Vlaanderen   \n",
       "465417          Namen               90000.0             Namen   \n",
       "\n",
       "        REGION REFNIS CODE     REGION NAME  GENDER  NATIONALITY  \\\n",
       "0                     2000  Flemish Region     0.0          1.0   \n",
       "1                     2000  Flemish Region     1.0          1.0   \n",
       "2                     2000  Flemish Region     0.0          1.0   \n",
       "3                     2000  Flemish Region     1.0          1.0   \n",
       "4                     2000  Flemish Region     0.0          1.0   \n",
       "...                    ...             ...     ...          ...   \n",
       "465413                3000  Walloon Region     0.0          0.0   \n",
       "465414                2000  Flemish Region     1.0          0.0   \n",
       "465415                2000  Flemish Region     1.0          0.0   \n",
       "465416                2000  Flemish Region     1.0          0.0   \n",
       "465417                3000  Walloon Region     0.0          0.0   \n",
       "\n",
       "        CIVIL CODE STATUS   AGE  POPULATION  \n",
       "0                     1.0  0.39    0.275423  \n",
       "1                     1.0  0.82   -0.006945  \n",
       "2                     1.0  0.42    0.416606  \n",
       "3                     1.0  0.63    3.961885  \n",
       "4                     1.0  0.30   -0.163815  \n",
       "...                   ...   ...         ...  \n",
       "465413                0.0  0.64   -0.367747  \n",
       "465414                0.0  0.67   -0.352060  \n",
       "465415                0.0  0.74   -0.367747  \n",
       "465416                0.0  0.81   -0.367747  \n",
       "465417                0.0  0.63   -0.367747  \n",
       "\n",
       "[465418 rows x 13 columns]"
      ]
     },
     "execution_count": 30,
     "metadata": {},
     "output_type": "execute_result"
    }
   ],
   "source": [
    "ordinal = OrdinalEncoder()\n",
    "df[\"CIVIL CODE STATUS\"] = ordinal.fit_transform(df[[\"CIVIL CODE STATUS\"]])\n",
    "\n",
    "df[\"GENDER\"] = ordinal.fit_transform(df[[\"GENDER\"]])\n",
    "\n",
    "age_normalized = MinMaxScaler().fit_transform(df[[\"AGE\"]])\n",
    "age = pd.DataFrame(age_normalized, columns=[\"AGE\"])\n",
    "df.drop(columns=\"AGE\", inplace=True)\n",
    "df = pd.concat([df, age], axis=1)\n",
    "\n",
    "population_standard_scaler = StandardScaler().fit_transform(df[[\"POPULATION\"]])\n",
    "population = pd.DataFrame(population_standard_scaler, columns=[\"POPULATION\"])\n",
    "df.drop(columns=\"POPULATION\", inplace=True)\n",
    "df = pd.concat([df, population], axis=1)\n",
    "\n",
    "df[\"NATIONALITY\"] = ordinal.fit_transform(df[[\"NATIONALITY\"]])\n",
    "df"
   ]
  },
  {
   "cell_type": "markdown",
   "metadata": {},
   "source": [
    "# Deep Neural Network (DNN)"
   ]
  },
  {
   "cell_type": "markdown",
   "metadata": {},
   "source": [
    "Mengambil kolom 'POPULATION', 'AGE', 'CIVIL CODE STATUS', 'GENDER', 'DISTRICT REFNIS CODE', dan 'PROVINCE REFNIS CODE' sebagai fitur (variabel independen) dalam variabel X, serta kolom 'NATIONALITY' sebagai target (variabel dependen) dalam variabel y. Kemudian, data dibagi menjadi data pelatihan (X_train, y_train) dan data pengujian (X_test, y_test) dengan rasio 70:30, menggunakan seed (random_state) 42 untuk memastikan pengulangan yang konsisten dalam pemisahan data."
   ]
  },
  {
   "cell_type": "code",
   "execution_count": 31,
   "metadata": {},
   "outputs": [],
   "source": [
    "X = df[['POPULATION', 'AGE', 'CIVIL CODE STATUS', 'GENDER', 'DISTRICT REFNIS CODE', 'PROVINCE REFNIS CODE']]\n",
    "y = df['NATIONALITY']\n",
    "\n",
    "X_train, X_test, y_train, y_test = train_test_split(X, y, test_size=0.3, random_state=42)"
   ]
  },
  {
   "cell_type": "markdown",
   "metadata": {},
   "source": [
    "Menggunakan aktivasi ReLU untuk klasifikasi biner dan hidden layer, aktivasi sigmoid untuk lapisan output."
   ]
  },
  {
   "cell_type": "code",
   "execution_count": 32,
   "metadata": {},
   "outputs": [],
   "source": [
    "model = Sequential([\n",
    "    layers.Dense(16, activation='relu', input_shape=[6]),\n",
    "    layers.Dense(32, activation='relu'),\n",
    "    layers.Dense(32, activation='relu'),\n",
    "    layers.Dense(1, activation='sigmoid')\n",
    "])\n",
    "\n",
    "model.compile(\n",
    "    optimizer='adam', \n",
    "    loss='binary_crossentropy',\n",
    "    metrics=['accuracy']\n",
    ")"
   ]
  },
  {
   "cell_type": "markdown",
   "metadata": {},
   "source": [
    "Variabel **es** digunakan sebagai callback dalam pelatihan model untuk menghentikan pelatihan jika metrik \"val_accuracy\" pada data validasi tidak mengalami perbaikan dalam 5 iterasi berturut-turut, dan opsi \"restore_best_weights\" digunakan untuk mengembalikan bobot model ke iterasi dengan kinerja terbaik."
   ]
  },
  {
   "cell_type": "code",
   "execution_count": 33,
   "metadata": {},
   "outputs": [],
   "source": [
    "es = callbacks.EarlyStopping(\n",
    "    monitor='val_accuracy',\n",
    "    patience=5,\n",
    "    verbose=1,\n",
    "    restore_best_weights=True\n",
    ")"
   ]
  },
  {
   "cell_type": "markdown",
   "metadata": {},
   "source": [
    "Melatih model DNN dengan data train, validation sebesar 20%, selama 50 epoch dengan tampilan informasi pelatihan"
   ]
  },
  {
   "cell_type": "code",
   "execution_count": 34,
   "metadata": {},
   "outputs": [
    {
     "name": "stdout",
     "output_type": "stream",
     "text": [
      "Epoch 1/1000\n"
     ]
    },
    {
     "name": "stdout",
     "output_type": "stream",
     "text": [
      "8145/8145 [==============================] - 32s 4ms/step - loss: 35.8272 - accuracy: 0.5600 - val_loss: 3.8381 - val_accuracy: 0.6639\n",
      "Epoch 2/1000\n",
      "8145/8145 [==============================] - 26s 3ms/step - loss: 4.2845 - accuracy: 0.5666 - val_loss: 4.1710 - val_accuracy: 0.6675\n",
      "Epoch 3/1000\n",
      "8145/8145 [==============================] - 25s 3ms/step - loss: 1.2889 - accuracy: 0.5856 - val_loss: 0.6672 - val_accuracy: 0.6675\n",
      "Epoch 4/1000\n",
      "8145/8145 [==============================] - 25s 3ms/step - loss: 0.7188 - accuracy: 0.6318 - val_loss: 0.6347 - val_accuracy: 0.6675\n",
      "Epoch 5/1000\n",
      "8145/8145 [==============================] - 28s 3ms/step - loss: 0.6381 - accuracy: 0.6646 - val_loss: 0.6360 - val_accuracy: 0.6675\n",
      "Epoch 6/1000\n",
      "8145/8145 [==============================] - 29s 4ms/step - loss: 0.6380 - accuracy: 0.6646 - val_loss: 0.6360 - val_accuracy: 0.6675\n",
      "Epoch 7/1000\n",
      "8129/8145 [============================>.] - ETA: 0s - loss: 0.6380 - accuracy: 0.6646Restoring model weights from the end of the best epoch: 2.\n",
      "8145/8145 [==============================] - 26s 3ms/step - loss: 0.6380 - accuracy: 0.6646 - val_loss: 0.6360 - val_accuracy: 0.6675\n",
      "Epoch 7: early stopping\n"
     ]
    }
   ],
   "source": [
    "history = model.fit(X_train, y_train, epochs=1000, validation_split=0.2, verbose=1, callbacks=[es])"
   ]
  },
  {
   "cell_type": "markdown",
   "metadata": {},
   "source": [
    "Mengevaluasi model DNN dengan data test dan mengembalikan nilai kerugian (loss) dan akurasi yang diperoleh"
   ]
  },
  {
   "cell_type": "code",
   "execution_count": 35,
   "metadata": {},
   "outputs": [
    {
     "name": "stdout",
     "output_type": "stream",
     "text": [
      "   1/4364 [..............................] - ETA: 2:20 - loss: 5.0544 - accuracy: 0.6250"
     ]
    },
    {
     "name": "stdout",
     "output_type": "stream",
     "text": [
      "4364/4364 [==============================] - 9s 2ms/step - loss: 4.2116 - accuracy: 0.6663\n"
     ]
    },
    {
     "data": {
      "text/plain": [
       "[4.211580753326416, 0.6662942171096802]"
      ]
     },
     "execution_count": 35,
     "metadata": {},
     "output_type": "execute_result"
    }
   ],
   "source": [
    "model.evaluate(X_test, y_test)"
   ]
  },
  {
   "cell_type": "markdown",
   "metadata": {},
   "source": [
    "Mengambil metrik akurasi (accuracy) dari setiap epoch"
   ]
  },
  {
   "cell_type": "code",
   "execution_count": 36,
   "metadata": {},
   "outputs": [],
   "source": [
    "training_accuracy = history.history['accuracy']\n",
    "validation_accuracy = history.history['val_accuracy']"
   ]
  },
  {
   "cell_type": "markdown",
   "metadata": {},
   "source": [
    "Membuat grafik untuk akurasi"
   ]
  },
  {
   "cell_type": "code",
   "execution_count": 37,
   "metadata": {},
   "outputs": [
    {
     "data": {
      "image/png": "[encoded data removed]",
      "text/plain": [
       "<Figure size 1200x500 with 1 Axes>"
      ]
     },
     "metadata": {},
     "output_type": "display_data"
    }
   ],
   "source": [
    "plt.figure(figsize=(12, 5))\n",
    "plt.plot(range(1, len(training_accuracy) + 1), training_accuracy, label='Training Accuracy', color='blue')\n",
    "plt.plot(range(1, len(validation_accuracy) + 1), validation_accuracy, label='Validation Accuracy',  color='orange')\n",
    "plt.title('Training and Validation Accuracy')\n",
    "plt.xlabel('Epochs')\n",
    "plt.ylabel('Accuracy')\n",
    "plt.legend()\n",
    "plt.show()"
   ]
  },
  {
   "cell_type": "markdown",
   "metadata": {},
   "source": [
    "Mengambil loss dari setiap epoch"
   ]
  },
  {
   "cell_type": "code",
   "execution_count": 38,
   "metadata": {},
   "outputs": [],
   "source": [
    "training_loss = history.history['loss']\n",
    "validation_loss = history.history['val_loss']"
   ]
  },
  {
   "cell_type": "markdown",
   "metadata": {},
   "source": [
    "Membuat grafik untuk loss"
   ]
  },
  {
   "cell_type": "code",
   "execution_count": 39,
   "metadata": {},
   "outputs": [
    {
     "data": {
      "image/png": "[encoded data removed]",
      "text/plain": [
       "<Figure size 1200x500 with 1 Axes>"
      ]
     },
     "metadata": {},
     "output_type": "display_data"
    }
   ],
   "source": [
    "plt.figure(figsize=(12, 5))\n",
    "plt.plot(range(1, len(training_loss) + 1), training_loss, label='Training Loss', color='blue')\n",
    "plt.plot(range(1, len(validation_loss) + 1), validation_loss, label='Validation Loss', color='orange')\n",
    "plt.title('Training and Validation Loss')\n",
    "plt.xlabel('Epochs')\n",
    "plt.ylabel('Loss')\n",
    "plt.legend()\n",
    "plt.show()"
   ]
  }
 ],
 "metadata": {
  "kernelspec": {
   "display_name": "Ikhwan_066",
   "language": "python",
   "name": "python3"
  },
  "language_info": {
   "codemirror_mode": {
    "name": "ipython",
    "version": 3
   },
   "file_extension": ".py",
   "mimetype": "text/x-python",
   "name": "python",
   "nbconvert_exporter": "python",
   "pygments_lexer": "ipython3",
   "version": "3.10.7"
  }
 },
 "nbformat": 4,
 "nbformat_minor": 2
}
