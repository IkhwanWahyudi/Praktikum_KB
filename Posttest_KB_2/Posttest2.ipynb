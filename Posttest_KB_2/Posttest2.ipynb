{
 "cells": [
  {
   "cell_type": "markdown",
   "id": "4a88eff4-7c87-4ffa-8c70-923f95ae2908",
   "metadata": {},
   "source": [
    "# Import pandas dan membaca file csv menggunakan encoding 'latin-1'\n",
    "\n",
    "Encoding default membaca file csv yang digunakan pandas adalah 'UTF-8', mengubah encoding pandas menjadi 'latin-1' agar file bisa dibaca oleh pandas"
   ]
  },
  {
   "cell_type": "code",
   "execution_count": 1,
   "id": "546deac7-beea-4024-a664-d869794de40a",
   "metadata": {
    "scrolled": true
   },
   "outputs": [],
   "source": [
    "import pandas as pd\n",
    "\n",
    "df = pd.read_csv(\"BELGIUM_POPULATION_STRUCTURE_2018.csv\", encoding='latin-1')"
   ]
  },
  {
   "cell_type": "markdown",
   "id": "8c48a803-1c0c-4160-8de0-83010a2204f8",
   "metadata": {},
   "source": [
    "# Memilah kolom yang bertipe data angka \n",
    "\n",
    "Membuat variabel **numeric_columns** untuk menampung dataset, dataset akan dipilah menggunakan *\"select_dtypes(include=['number'])\"* sehingga hanya memilih kolom yang bertipe numerik"
   ]
  },
  {
   "cell_type": "code",
   "execution_count": 2,
   "id": "7ced12a7-221c-43e8-ab8a-6dd465ce3a42",
   "metadata": {},
   "outputs": [],
   "source": [
    "numeric_columns = df.select_dtypes(include=['number'])"
   ]
  },
  {
   "cell_type": "markdown",
   "id": "cdeb32c4-7bb5-4472-8b80-710d5e2bedcc",
   "metadata": {
    "jp-MarkdownHeadingCollapsed": true
   },
   "source": [
    "# Menampilkan statistik dataset yang bertipe numerik\n",
    "\n",
    "1. Membuat variabel **stats** untuk menampung statistik dataset yang bertipe numerik\n",
    "2. Mengisi value variabel **stats** dengan *\"numeric_columns.describe()\"* untuk menampilkan statistik dataset yang bertipe numerik"
   ]
  },
  {
   "cell_type": "code",
   "execution_count": 3,
   "id": "36f7fbfc-bdb4-4124-8b93-b09d2ccbc515",
   "metadata": {},
   "outputs": [],
   "source": [
    "stats = numeric_columns.describe()"
   ]
  },
  {
   "cell_type": "markdown",
   "id": "ca514018-d40e-4999-a661-3d4377e0ac42",
   "metadata": {},
   "source": [
    "## Menampilkan Rata Rata\n",
    "\n",
    "Menggunakan *\".loc['mean']\"* pada variabel stats"
   ]
  },
  {
   "cell_type": "code",
   "execution_count": 4,
   "id": "a97a9c8c-27de-4f86-9561-59837481325f",
   "metadata": {},
   "outputs": [
    {
     "name": "stdout",
     "output_type": "stream",
     "text": [
      "Rata-rata:\n",
      "MUNICIPALITY REFNIS CODE    45795.085029\n",
      "DISTRICT REFNIS CODE        45754.592646\n",
      "PROVINCE REFNIS CODE        43842.168913\n",
      "REGION REFNIS CODE           2517.923673\n",
      "AGE                            52.607527\n",
      "POPULATION                     24.442695\n",
      "Name: mean, dtype: float64\n"
     ]
    }
   ],
   "source": [
    "print(\"Rata-rata:\")\n",
    "print(stats.loc['mean'])"
   ]
  },
  {
   "cell_type": "markdown",
   "id": "669d91c8-d426-4529-829d-59114b8201a2",
   "metadata": {},
   "source": [
    "## Menampilkan Standar Deviasi\n",
    "\n",
    "Menggunakan *\".loc['std']\"* pada variabel **stats**"
   ]
  },
  {
   "cell_type": "code",
   "execution_count": 5,
   "id": "12a494da-a591-4b0c-9cb6-b9d9e4a0f610",
   "metadata": {},
   "outputs": [
    {
     "name": "stdout",
     "output_type": "stream",
     "text": [
      "Standar Deviasi:\n",
      "MUNICIPALITY REFNIS CODE    23956.614057\n",
      "DISTRICT REFNIS CODE        23950.946921\n",
      "PROVINCE REFNIS CODE        24106.756939\n",
      "REGION REFNIS CODE            584.591526\n",
      "AGE                            23.467469\n",
      "POPULATION                     63.746827\n",
      "Name: std, dtype: float64\n"
     ]
    }
   ],
   "source": [
    "print(\"Standar Deviasi:\")\n",
    "print(stats.loc['std'])"
   ]
  },
  {
   "cell_type": "markdown",
   "id": "45a5d7ea-d89b-4c96-9d3b-e77cd4df6ca1",
   "metadata": {},
   "source": [
    "## Menampilkan Nilai Minimum\n",
    "\n",
    "Menggunakan *\".loc['min']\"* pada variabel **stats**"
   ]
  },
  {
   "cell_type": "code",
   "execution_count": 6,
   "id": "ced52a78-e88b-4ec5-896e-91300f7fce4b",
   "metadata": {},
   "outputs": [
    {
     "name": "stdout",
     "output_type": "stream",
     "text": [
      "Nilai Minimum:\n",
      "MUNICIPALITY REFNIS CODE    11001.0\n",
      "DISTRICT REFNIS CODE        11000.0\n",
      "PROVINCE REFNIS CODE        10000.0\n",
      "REGION REFNIS CODE           2000.0\n",
      "AGE                             0.0\n",
      "POPULATION                      1.0\n",
      "Name: min, dtype: float64\n"
     ]
    }
   ],
   "source": [
    "print(\"Nilai Minimum:\")\n",
    "print(stats.loc['min'])"
   ]
  },
  {
   "cell_type": "markdown",
   "id": "944d3d14-512f-4e61-8642-073d67e6fb4b",
   "metadata": {},
   "source": [
    "## Menampilkan Nilai Maksimum\n",
    "\n",
    "Menggunakan *\".loc['max']\"* pada variabel **stats**"
   ]
  },
  {
   "cell_type": "code",
   "execution_count": 7,
   "id": "7c758a51-4edb-4ee0-bbe5-fe40ec33cf57",
   "metadata": {},
   "outputs": [
    {
     "name": "stdout",
     "output_type": "stream",
     "text": [
      "Nilai Maksimum:\n",
      "MUNICIPALITY REFNIS CODE    93090.0\n",
      "DISTRICT REFNIS CODE        93000.0\n",
      "PROVINCE REFNIS CODE        90000.0\n",
      "REGION REFNIS CODE           4000.0\n",
      "AGE                           100.0\n",
      "POPULATION                   2936.0\n",
      "Name: max, dtype: float64\n"
     ]
    }
   ],
   "source": [
    "print(\"Nilai Maksimum:\")\n",
    "print(stats.loc['max'])"
   ]
  },
  {
   "cell_type": "markdown",
   "id": "cbeb7d1e-434b-46a9-8a23-7cfe374be28a",
   "metadata": {},
   "source": [
    "## Menampilkan Kuartil Pertama(Q1)\n",
    "\n",
    "Menggunakan *\".quantile(0.25)\"* pada variabel **numeric_columns** untuk menampilkan 25% data terendah"
   ]
  },
  {
   "cell_type": "code",
   "execution_count": 8,
   "id": "55b91452-5ed9-4f4d-81cc-80556cf013cd",
   "metadata": {},
   "outputs": [
    {
     "name": "stdout",
     "output_type": "stream",
     "text": [
      "Kuartil Pertama (Q1):\n",
      "MUNICIPALITY REFNIS CODE    24033.0\n",
      "DISTRICT REFNIS CODE        24000.0\n",
      "PROVINCE REFNIS CODE        20002.0\n",
      "REGION REFNIS CODE           2000.0\n",
      "AGE                            35.0\n",
      "POPULATION                      2.0\n",
      "Name: 0.25, dtype: float64\n"
     ]
    }
   ],
   "source": [
    "print(\"Kuartil Pertama (Q1):\")\n",
    "print(numeric_columns.quantile(0.25))"
   ]
  },
  {
   "cell_type": "markdown",
   "id": "08824cec-83b9-4c31-af36-5a9b88475069",
   "metadata": {},
   "source": [
    "## Menampilkan Kuartil Kedua(Q2)\n",
    "\n",
    "*\".loc['50%']\"* pada variabel **stats** untuk menampilkan median atau kuartil kedua(Q2)"
   ]
  },
  {
   "cell_type": "code",
   "execution_count": 9,
   "id": "d884ba07-8aff-47e0-8cf0-f0af8fb89575",
   "metadata": {},
   "outputs": [
    {
     "name": "stdout",
     "output_type": "stream",
     "text": [
      "Kuartil Kedua (Q2 atau Median):\n",
      "MUNICIPALITY REFNIS CODE    44043.0\n",
      "DISTRICT REFNIS CODE        44000.0\n",
      "PROVINCE REFNIS CODE        40000.0\n",
      "REGION REFNIS CODE           2000.0\n",
      "AGE                            53.0\n",
      "POPULATION                      7.0\n",
      "Name: 50%, dtype: float64\n"
     ]
    }
   ],
   "source": [
    "print(\"Kuartil Kedua (Q2 atau Median):\")\n",
    "print(stats.loc['50%'])"
   ]
  },
  {
   "cell_type": "markdown",
   "id": "33a19d0d-66f6-40f3-94e9-485aca62c03f",
   "metadata": {},
   "source": [
    "## Menampilkan Kuartil Ketiga(Q3)\n",
    "\n",
    "Menggunakan *\".quantile(0.75)\"* pada variabel **numeric_stats** untuk menampilkan 25% data tertinggi"
   ]
  },
  {
   "cell_type": "code",
   "execution_count": 10,
   "id": "02f5fdf3-c65b-4291-a210-be7bd93a085f",
   "metadata": {},
   "outputs": [
    {
     "name": "stdout",
     "output_type": "stream",
     "text": [
      "Kuartil Ketiga (Q3):\n",
      "MUNICIPALITY REFNIS CODE    63035.0\n",
      "DISTRICT REFNIS CODE        63000.0\n",
      "PROVINCE REFNIS CODE        60000.0\n",
      "REGION REFNIS CODE           3000.0\n",
      "AGE                            71.0\n",
      "POPULATION                     25.0\n",
      "Name: 0.75, dtype: float64\n"
     ]
    }
   ],
   "source": [
    "print(\"Kuartil Ketiga (Q3):\")\n",
    "print(numeric_columns.quantile(0.75))"
   ]
  },
  {
   "cell_type": "markdown",
   "id": "3552df01-b582-4f90-92ea-c4710d54336b",
   "metadata": {
    "jp-MarkdownHeadingCollapsed": true
   },
   "source": [
    "# Menampilkan 10 record pertama dari dataset dengan attribute bertipe angka.\n",
    "\n",
    "Menggunakan *'head(10)'* pada variabel **numeric_stats** untuk menampilkan 10 data pertama yang bertipe angka"
   ]
  },
  {
   "cell_type": "code",
   "execution_count": 11,
   "id": "c0d95d2b-27d2-4609-8beb-41bfac789540",
   "metadata": {},
   "outputs": [
    {
     "name": "stdout",
     "output_type": "stream",
     "text": [
      "   MUNICIPALITY REFNIS CODE  DISTRICT REFNIS CODE  PROVINCE REFNIS CODE  \\\n",
      "0                     71024                 71000               70000.0   \n",
      "1                     71037                 71000               70000.0   \n",
      "2                     71011                 71000               70000.0   \n",
      "3                     71016                 71000               70000.0   \n",
      "4                     71017                 71000               70000.0   \n",
      "5                     71020                 71000               70000.0   \n",
      "6                     71022                 71000               70000.0   \n",
      "7                     71022                 71000               70000.0   \n",
      "8                     71045                 71000               70000.0   \n",
      "9                     71017                 71000               70000.0   \n",
      "\n",
      "   REGION REFNIS CODE  AGE  POPULATION  \n",
      "0                2000   39          42  \n",
      "1                2000   82          24  \n",
      "2                2000   42          51  \n",
      "3                2000   63         277  \n",
      "4                2000   30          14  \n",
      "5                2000   52          52  \n",
      "6                2000   50         283  \n",
      "7                2000   40         219  \n",
      "8                2000   81          11  \n",
      "9                2000   57          38  \n"
     ]
    }
   ],
   "source": [
    "print(numeric_columns.head(10))"
   ]
  },
  {
   "cell_type": "markdown",
   "id": "90a40d29-614b-4895-9ff6-7c1ac6b1dfc2",
   "metadata": {
    "jp-MarkdownHeadingCollapsed": true
   },
   "source": [
    "# Menampilkan informasi jumlah record, jumlah attribute, nama attribute, jumlah attribute dengan tipe angka."
   ]
  },
  {
   "cell_type": "markdown",
   "id": "a232f527-9a0e-414c-9624-c2dc88528605",
   "metadata": {},
   "source": [
    "Membuat variabel **total_records** untuk menampung jumlah record keseluruhan"
   ]
  },
  {
   "cell_type": "code",
   "execution_count": 12,
   "id": "50414267-1949-4562-821e-7d4f762ceea6",
   "metadata": {},
   "outputs": [],
   "source": [
    "total_records = len(df)"
   ]
  },
  {
   "cell_type": "markdown",
   "id": "3a891f1f-13a3-4f4f-8660-68a172f7aa22",
   "metadata": {},
   "source": [
    "Membuat variabel **total_attributes** untuk menampung jumlah attribute keseluruhan"
   ]
  },
  {
   "cell_type": "code",
   "execution_count": 13,
   "id": "2ca6345a-e486-4844-b841-dc9e03073c20",
   "metadata": {},
   "outputs": [],
   "source": [
    "total_attributes = df.shape[1]"
   ]
  },
  {
   "cell_type": "markdown",
   "id": "e07afa29-79ba-47d6-8306-2c4c1f344bea",
   "metadata": {},
   "source": [
    "Membuat variabel **attributes** untuk menampung semua nama kolom dalam bentuk list"
   ]
  },
  {
   "cell_type": "code",
   "execution_count": 14,
   "id": "c759c815-40d5-481a-964f-085dcced5d6a",
   "metadata": {},
   "outputs": [],
   "source": [
    "attributes = df.columns.tolist()"
   ]
  },
  {
   "cell_type": "markdown",
   "id": "57a27871-8fd3-495a-8767-8742356d48f0",
   "metadata": {},
   "source": [
    "Membuat variabel **total_numeric_attributes** untuk menampung jumlah semua kolom yang bertipe numerik/angka"
   ]
  },
  {
   "cell_type": "code",
   "execution_count": 15,
   "id": "6361fb76-09b9-414c-9259-1d95a2b6d01a",
   "metadata": {},
   "outputs": [],
   "source": [
    "total_numeric_attributes = len(df.select_dtypes(include=['number']).columns)"
   ]
  },
  {
   "cell_type": "markdown",
   "id": "89f28e0b-0774-4691-b9e1-ef4282c8d9a8",
   "metadata": {},
   "source": [
    "Membuat variabel **info_dict** bertipe dictionary untuk menampung semua data dengan \"Jumlah Record\", \"Jumlah Attribute\", \"Nama Attribute\", \"Jumlah Attribute Numerik\" sebagai key dan valuenya adalah variabel-variabel yang telah dibuat sebelumnya, pada value dari key \"Nama Attribute\" terdapat *\",\\n\".join(attributes)*, ini digunakan untuk menghilangkan format penampilan data oleh variabel yang bertipe list."
   ]
  },
  {
   "cell_type": "code",
   "execution_count": 16,
   "id": "e2b576d9-320d-44a6-949f-3dd42fa181d1",
   "metadata": {},
   "outputs": [
    {
     "name": "stdout",
     "output_type": "stream",
     "text": [
      "==========================================\n",
      "1 | Jumlah Record : 465418\n",
      "==========================================\n",
      "2 | Jumlah Attribute : 13\n",
      "==========================================\n",
      "3 | Nama Attribute : \n",
      "MUNICIPALITY REFNIS CODE, \n",
      "MUNICIPALITY NAME, \n",
      "DISTRICT REFNIS CODE, \n",
      "DISTRICT NAME, \n",
      "PROVINCE REFNIS CODE, \n",
      "PROVINCE NAME, \n",
      "REGION REFNIS CODE, \n",
      "REGION NAME, \n",
      "GENDER, \n",
      "NATIONALITY, \n",
      "CIVIL CODE STATUS, \n",
      "AGE, \n",
      "POPULATION\n",
      "==========================================\n",
      "4 | Jumlah Attribute Numerik : 6\n",
      "==========================================\n"
     ]
    }
   ],
   "source": [
    "info_dict = {\n",
    "    \"Jumlah Record\" : total_records,\n",
    "    \"Jumlah Attribute\" : total_attributes,\n",
    "    \"Nama Attribute\" : \", \\n\".join(attributes),\n",
    "    \"Jumlah Attribute Numerik\" : total_numeric_attributes\n",
    "}\n",
    "\n",
    "i = 1\n",
    "for key, value in info_dict.items():\n",
    "    print(\"==========================================\")\n",
    "    if key == \"Nama Attribute\":\n",
    "        print(f\"{i} | {key} : \\n{value}\")\n",
    "    else:\n",
    "        print(f\"{i} | {key} : {value}\")    \n",
    "    i+=1\n",
    "    \n",
    "print(\"==========================================\")"
   ]
  },
  {
   "cell_type": "markdown",
   "id": "b35eb40f-5b3b-4bdf-bbff-333843e61710",
   "metadata": {
    "jp-MarkdownHeadingCollapsed": true
   },
   "source": [
    "# Menampilkan nilai dataset pada baris yang dimulai dari 3 digit NIM akhir(066) hingga data terakhir dan kolom ke 4 hingga kolom terakhir menggunakan ke 2 metode slice."
   ]
  },
  {
   "cell_type": "markdown",
   "id": "fd3d8e09-0592-482c-a82e-1e9e2e4e3fb6",
   "metadata": {},
   "source": [
    "Menggunakan metode *\".iloc[66:, 3:]\"* memanggil data ke-66 hingga akhir di kolom ke-4 hingga terakhir"
   ]
  },
  {
   "cell_type": "code",
   "execution_count": 17,
   "id": "4068bf72-b38b-4ad9-b75e-4b7de049e9a5",
   "metadata": {},
   "outputs": [
    {
     "data": {
      "text/html": [
       "<div>\n",
       "<style scoped>\n",
       "    .dataframe tbody tr th:only-of-type {\n",
       "        vertical-align: middle;\n",
       "    }\n",
       "\n",
       "    .dataframe tbody tr th {\n",
       "        vertical-align: top;\n",
       "    }\n",
       "\n",
       "    .dataframe thead th {\n",
       "        text-align: right;\n",
       "    }\n",
       "</style>\n",
       "<table border=\"1\" class=\"dataframe\">\n",
       "  <thead>\n",
       "    <tr style=\"text-align: right;\">\n",
       "      <th></th>\n",
       "      <th>DISTRICT NAME</th>\n",
       "      <th>PROVINCE REFNIS CODE</th>\n",
       "      <th>PROVINCE NAME</th>\n",
       "      <th>REGION REFNIS CODE</th>\n",
       "      <th>REGION NAME</th>\n",
       "      <th>GENDER</th>\n",
       "      <th>NATIONALITY</th>\n",
       "      <th>CIVIL CODE STATUS</th>\n",
       "      <th>AGE</th>\n",
       "      <th>POPULATION</th>\n",
       "    </tr>\n",
       "  </thead>\n",
       "  <tbody>\n",
       "    <tr>\n",
       "      <th>66</th>\n",
       "      <td>Hasselt</td>\n",
       "      <td>70000.0</td>\n",
       "      <td>Limburg</td>\n",
       "      <td>2000</td>\n",
       "      <td>Flemish Region</td>\n",
       "      <td>M</td>\n",
       "      <td>Belgian</td>\n",
       "      <td>Married</td>\n",
       "      <td>25</td>\n",
       "      <td>22</td>\n",
       "    </tr>\n",
       "    <tr>\n",
       "      <th>67</th>\n",
       "      <td>Hasselt</td>\n",
       "      <td>70000.0</td>\n",
       "      <td>Limburg</td>\n",
       "      <td>2000</td>\n",
       "      <td>Flemish Region</td>\n",
       "      <td>M</td>\n",
       "      <td>Belgian</td>\n",
       "      <td>Married</td>\n",
       "      <td>64</td>\n",
       "      <td>77</td>\n",
       "    </tr>\n",
       "    <tr>\n",
       "      <th>68</th>\n",
       "      <td>Hasselt</td>\n",
       "      <td>70000.0</td>\n",
       "      <td>Limburg</td>\n",
       "      <td>2000</td>\n",
       "      <td>Flemish Region</td>\n",
       "      <td>F</td>\n",
       "      <td>Belgian</td>\n",
       "      <td>Married</td>\n",
       "      <td>34</td>\n",
       "      <td>178</td>\n",
       "    </tr>\n",
       "    <tr>\n",
       "      <th>69</th>\n",
       "      <td>Hasselt</td>\n",
       "      <td>70000.0</td>\n",
       "      <td>Limburg</td>\n",
       "      <td>2000</td>\n",
       "      <td>Flemish Region</td>\n",
       "      <td>F</td>\n",
       "      <td>Belgian</td>\n",
       "      <td>Married</td>\n",
       "      <td>26</td>\n",
       "      <td>54</td>\n",
       "    </tr>\n",
       "    <tr>\n",
       "      <th>70</th>\n",
       "      <td>Hasselt</td>\n",
       "      <td>70000.0</td>\n",
       "      <td>Limburg</td>\n",
       "      <td>2000</td>\n",
       "      <td>Flemish Region</td>\n",
       "      <td>F</td>\n",
       "      <td>Belgian</td>\n",
       "      <td>Married</td>\n",
       "      <td>31</td>\n",
       "      <td>27</td>\n",
       "    </tr>\n",
       "    <tr>\n",
       "      <th>...</th>\n",
       "      <td>...</td>\n",
       "      <td>...</td>\n",
       "      <td>...</td>\n",
       "      <td>...</td>\n",
       "      <td>...</td>\n",
       "      <td>...</td>\n",
       "      <td>...</td>\n",
       "      <td>...</td>\n",
       "      <td>...</td>\n",
       "      <td>...</td>\n",
       "    </tr>\n",
       "    <tr>\n",
       "      <th>465413</th>\n",
       "      <td>Namen</td>\n",
       "      <td>90000.0</td>\n",
       "      <td>Namen</td>\n",
       "      <td>3000</td>\n",
       "      <td>Walloon Region</td>\n",
       "      <td>F</td>\n",
       "      <td>Alien</td>\n",
       "      <td>Divorced</td>\n",
       "      <td>64</td>\n",
       "      <td>1</td>\n",
       "    </tr>\n",
       "    <tr>\n",
       "      <th>465414</th>\n",
       "      <td>Sint-Niklaas</td>\n",
       "      <td>40000.0</td>\n",
       "      <td>Oost-Vlaanderen</td>\n",
       "      <td>2000</td>\n",
       "      <td>Flemish Region</td>\n",
       "      <td>M</td>\n",
       "      <td>Alien</td>\n",
       "      <td>Divorced</td>\n",
       "      <td>67</td>\n",
       "      <td>2</td>\n",
       "    </tr>\n",
       "    <tr>\n",
       "      <th>465415</th>\n",
       "      <td>Sint-Niklaas</td>\n",
       "      <td>40000.0</td>\n",
       "      <td>Oost-Vlaanderen</td>\n",
       "      <td>2000</td>\n",
       "      <td>Flemish Region</td>\n",
       "      <td>M</td>\n",
       "      <td>Alien</td>\n",
       "      <td>Divorced</td>\n",
       "      <td>74</td>\n",
       "      <td>1</td>\n",
       "    </tr>\n",
       "    <tr>\n",
       "      <th>465416</th>\n",
       "      <td>Sint-Niklaas</td>\n",
       "      <td>40000.0</td>\n",
       "      <td>Oost-Vlaanderen</td>\n",
       "      <td>2000</td>\n",
       "      <td>Flemish Region</td>\n",
       "      <td>M</td>\n",
       "      <td>Alien</td>\n",
       "      <td>Divorced</td>\n",
       "      <td>81</td>\n",
       "      <td>1</td>\n",
       "    </tr>\n",
       "    <tr>\n",
       "      <th>465417</th>\n",
       "      <td>Namen</td>\n",
       "      <td>90000.0</td>\n",
       "      <td>Namen</td>\n",
       "      <td>3000</td>\n",
       "      <td>Walloon Region</td>\n",
       "      <td>F</td>\n",
       "      <td>Alien</td>\n",
       "      <td>Divorced</td>\n",
       "      <td>63</td>\n",
       "      <td>1</td>\n",
       "    </tr>\n",
       "  </tbody>\n",
       "</table>\n",
       "<p>465352 rows × 10 columns</p>\n",
       "</div>"
      ],
      "text/plain": [
       "        DISTRICT NAME  PROVINCE REFNIS CODE     PROVINCE NAME  \\\n",
       "66            Hasselt               70000.0           Limburg   \n",
       "67            Hasselt               70000.0           Limburg   \n",
       "68            Hasselt               70000.0           Limburg   \n",
       "69            Hasselt               70000.0           Limburg   \n",
       "70            Hasselt               70000.0           Limburg   \n",
       "...               ...                   ...               ...   \n",
       "465413          Namen               90000.0             Namen   \n",
       "465414   Sint-Niklaas               40000.0   Oost-Vlaanderen   \n",
       "465415   Sint-Niklaas               40000.0   Oost-Vlaanderen   \n",
       "465416   Sint-Niklaas               40000.0   Oost-Vlaanderen   \n",
       "465417          Namen               90000.0             Namen   \n",
       "\n",
       "        REGION REFNIS CODE     REGION NAME GENDER NATIONALITY  \\\n",
       "66                    2000  Flemish Region      M     Belgian   \n",
       "67                    2000  Flemish Region      M     Belgian   \n",
       "68                    2000  Flemish Region      F     Belgian   \n",
       "69                    2000  Flemish Region      F     Belgian   \n",
       "70                    2000  Flemish Region      F     Belgian   \n",
       "...                    ...             ...    ...         ...   \n",
       "465413                3000  Walloon Region      F       Alien   \n",
       "465414                2000  Flemish Region      M       Alien   \n",
       "465415                2000  Flemish Region      M       Alien   \n",
       "465416                2000  Flemish Region      M       Alien   \n",
       "465417                3000  Walloon Region      F       Alien   \n",
       "\n",
       "       CIVIL CODE STATUS  AGE  POPULATION  \n",
       "66               Married   25          22  \n",
       "67               Married   64          77  \n",
       "68               Married   34         178  \n",
       "69               Married   26          54  \n",
       "70               Married   31          27  \n",
       "...                  ...  ...         ...  \n",
       "465413          Divorced   64           1  \n",
       "465414          Divorced   67           2  \n",
       "465415          Divorced   74           1  \n",
       "465416          Divorced   81           1  \n",
       "465417          Divorced   63           1  \n",
       "\n",
       "[465352 rows x 10 columns]"
      ]
     },
     "execution_count": 17,
     "metadata": {},
     "output_type": "execute_result"
    }
   ],
   "source": [
    "df.iloc[66:, 3:]"
   ]
  },
  {
   "cell_type": "markdown",
   "id": "657f97b6-4115-4949-b782-dc778cbb664e",
   "metadata": {},
   "source": [
    "Menggunakan metode *\".loc[66:, df.columns[3:]]\"* memanggil data ke-66 hingga akhir di kolom ke-4 hingga terakhir"
   ]
  },
  {
   "cell_type": "code",
   "execution_count": 18,
   "id": "2e93235e-bea5-4ed1-aa9a-bc74a4330d87",
   "metadata": {},
   "outputs": [
    {
     "data": {
      "text/html": [
       "<div>\n",
       "<style scoped>\n",
       "    .dataframe tbody tr th:only-of-type {\n",
       "        vertical-align: middle;\n",
       "    }\n",
       "\n",
       "    .dataframe tbody tr th {\n",
       "        vertical-align: top;\n",
       "    }\n",
       "\n",
       "    .dataframe thead th {\n",
       "        text-align: right;\n",
       "    }\n",
       "</style>\n",
       "<table border=\"1\" class=\"dataframe\">\n",
       "  <thead>\n",
       "    <tr style=\"text-align: right;\">\n",
       "      <th></th>\n",
       "      <th>DISTRICT NAME</th>\n",
       "      <th>PROVINCE REFNIS CODE</th>\n",
       "      <th>PROVINCE NAME</th>\n",
       "      <th>REGION REFNIS CODE</th>\n",
       "      <th>REGION NAME</th>\n",
       "      <th>GENDER</th>\n",
       "      <th>NATIONALITY</th>\n",
       "      <th>CIVIL CODE STATUS</th>\n",
       "      <th>AGE</th>\n",
       "      <th>POPULATION</th>\n",
       "    </tr>\n",
       "  </thead>\n",
       "  <tbody>\n",
       "    <tr>\n",
       "      <th>66</th>\n",
       "      <td>Hasselt</td>\n",
       "      <td>70000.0</td>\n",
       "      <td>Limburg</td>\n",
       "      <td>2000</td>\n",
       "      <td>Flemish Region</td>\n",
       "      <td>M</td>\n",
       "      <td>Belgian</td>\n",
       "      <td>Married</td>\n",
       "      <td>25</td>\n",
       "      <td>22</td>\n",
       "    </tr>\n",
       "    <tr>\n",
       "      <th>67</th>\n",
       "      <td>Hasselt</td>\n",
       "      <td>70000.0</td>\n",
       "      <td>Limburg</td>\n",
       "      <td>2000</td>\n",
       "      <td>Flemish Region</td>\n",
       "      <td>M</td>\n",
       "      <td>Belgian</td>\n",
       "      <td>Married</td>\n",
       "      <td>64</td>\n",
       "      <td>77</td>\n",
       "    </tr>\n",
       "    <tr>\n",
       "      <th>68</th>\n",
       "      <td>Hasselt</td>\n",
       "      <td>70000.0</td>\n",
       "      <td>Limburg</td>\n",
       "      <td>2000</td>\n",
       "      <td>Flemish Region</td>\n",
       "      <td>F</td>\n",
       "      <td>Belgian</td>\n",
       "      <td>Married</td>\n",
       "      <td>34</td>\n",
       "      <td>178</td>\n",
       "    </tr>\n",
       "    <tr>\n",
       "      <th>69</th>\n",
       "      <td>Hasselt</td>\n",
       "      <td>70000.0</td>\n",
       "      <td>Limburg</td>\n",
       "      <td>2000</td>\n",
       "      <td>Flemish Region</td>\n",
       "      <td>F</td>\n",
       "      <td>Belgian</td>\n",
       "      <td>Married</td>\n",
       "      <td>26</td>\n",
       "      <td>54</td>\n",
       "    </tr>\n",
       "    <tr>\n",
       "      <th>70</th>\n",
       "      <td>Hasselt</td>\n",
       "      <td>70000.0</td>\n",
       "      <td>Limburg</td>\n",
       "      <td>2000</td>\n",
       "      <td>Flemish Region</td>\n",
       "      <td>F</td>\n",
       "      <td>Belgian</td>\n",
       "      <td>Married</td>\n",
       "      <td>31</td>\n",
       "      <td>27</td>\n",
       "    </tr>\n",
       "    <tr>\n",
       "      <th>...</th>\n",
       "      <td>...</td>\n",
       "      <td>...</td>\n",
       "      <td>...</td>\n",
       "      <td>...</td>\n",
       "      <td>...</td>\n",
       "      <td>...</td>\n",
       "      <td>...</td>\n",
       "      <td>...</td>\n",
       "      <td>...</td>\n",
       "      <td>...</td>\n",
       "    </tr>\n",
       "    <tr>\n",
       "      <th>465413</th>\n",
       "      <td>Namen</td>\n",
       "      <td>90000.0</td>\n",
       "      <td>Namen</td>\n",
       "      <td>3000</td>\n",
       "      <td>Walloon Region</td>\n",
       "      <td>F</td>\n",
       "      <td>Alien</td>\n",
       "      <td>Divorced</td>\n",
       "      <td>64</td>\n",
       "      <td>1</td>\n",
       "    </tr>\n",
       "    <tr>\n",
       "      <th>465414</th>\n",
       "      <td>Sint-Niklaas</td>\n",
       "      <td>40000.0</td>\n",
       "      <td>Oost-Vlaanderen</td>\n",
       "      <td>2000</td>\n",
       "      <td>Flemish Region</td>\n",
       "      <td>M</td>\n",
       "      <td>Alien</td>\n",
       "      <td>Divorced</td>\n",
       "      <td>67</td>\n",
       "      <td>2</td>\n",
       "    </tr>\n",
       "    <tr>\n",
       "      <th>465415</th>\n",
       "      <td>Sint-Niklaas</td>\n",
       "      <td>40000.0</td>\n",
       "      <td>Oost-Vlaanderen</td>\n",
       "      <td>2000</td>\n",
       "      <td>Flemish Region</td>\n",
       "      <td>M</td>\n",
       "      <td>Alien</td>\n",
       "      <td>Divorced</td>\n",
       "      <td>74</td>\n",
       "      <td>1</td>\n",
       "    </tr>\n",
       "    <tr>\n",
       "      <th>465416</th>\n",
       "      <td>Sint-Niklaas</td>\n",
       "      <td>40000.0</td>\n",
       "      <td>Oost-Vlaanderen</td>\n",
       "      <td>2000</td>\n",
       "      <td>Flemish Region</td>\n",
       "      <td>M</td>\n",
       "      <td>Alien</td>\n",
       "      <td>Divorced</td>\n",
       "      <td>81</td>\n",
       "      <td>1</td>\n",
       "    </tr>\n",
       "    <tr>\n",
       "      <th>465417</th>\n",
       "      <td>Namen</td>\n",
       "      <td>90000.0</td>\n",
       "      <td>Namen</td>\n",
       "      <td>3000</td>\n",
       "      <td>Walloon Region</td>\n",
       "      <td>F</td>\n",
       "      <td>Alien</td>\n",
       "      <td>Divorced</td>\n",
       "      <td>63</td>\n",
       "      <td>1</td>\n",
       "    </tr>\n",
       "  </tbody>\n",
       "</table>\n",
       "<p>465352 rows × 10 columns</p>\n",
       "</div>"
      ],
      "text/plain": [
       "        DISTRICT NAME  PROVINCE REFNIS CODE     PROVINCE NAME  \\\n",
       "66            Hasselt               70000.0           Limburg   \n",
       "67            Hasselt               70000.0           Limburg   \n",
       "68            Hasselt               70000.0           Limburg   \n",
       "69            Hasselt               70000.0           Limburg   \n",
       "70            Hasselt               70000.0           Limburg   \n",
       "...               ...                   ...               ...   \n",
       "465413          Namen               90000.0             Namen   \n",
       "465414   Sint-Niklaas               40000.0   Oost-Vlaanderen   \n",
       "465415   Sint-Niklaas               40000.0   Oost-Vlaanderen   \n",
       "465416   Sint-Niklaas               40000.0   Oost-Vlaanderen   \n",
       "465417          Namen               90000.0             Namen   \n",
       "\n",
       "        REGION REFNIS CODE     REGION NAME GENDER NATIONALITY  \\\n",
       "66                    2000  Flemish Region      M     Belgian   \n",
       "67                    2000  Flemish Region      M     Belgian   \n",
       "68                    2000  Flemish Region      F     Belgian   \n",
       "69                    2000  Flemish Region      F     Belgian   \n",
       "70                    2000  Flemish Region      F     Belgian   \n",
       "...                    ...             ...    ...         ...   \n",
       "465413                3000  Walloon Region      F       Alien   \n",
       "465414                2000  Flemish Region      M       Alien   \n",
       "465415                2000  Flemish Region      M       Alien   \n",
       "465416                2000  Flemish Region      M       Alien   \n",
       "465417                3000  Walloon Region      F       Alien   \n",
       "\n",
       "       CIVIL CODE STATUS  AGE  POPULATION  \n",
       "66               Married   25          22  \n",
       "67               Married   64          77  \n",
       "68               Married   34         178  \n",
       "69               Married   26          54  \n",
       "70               Married   31          27  \n",
       "...                  ...  ...         ...  \n",
       "465413          Divorced   64           1  \n",
       "465414          Divorced   67           2  \n",
       "465415          Divorced   74           1  \n",
       "465416          Divorced   81           1  \n",
       "465417          Divorced   63           1  \n",
       "\n",
       "[465352 rows x 10 columns]"
      ]
     },
     "execution_count": 18,
     "metadata": {},
     "output_type": "execute_result"
    }
   ],
   "source": [
    "df.loc[66:, df.columns[3:]]"
   ]
  },
  {
   "cell_type": "markdown",
   "id": "4d60724a-1e93-432c-802c-c2fcdb9ec9be",
   "metadata": {
    "jp-MarkdownHeadingCollapsed": true
   },
   "source": [
    "# Menampilkan jumlah nilai dari semua attribute yang bernilai object"
   ]
  },
  {
   "cell_type": "markdown",
   "id": "d852e12a-8a89-4c63-80e4-810c3988bb64",
   "metadata": {},
   "source": [
    "Membuat variabel **object_columns** untuk menampung semua kolom yang bertipe object"
   ]
  },
  {
   "cell_type": "code",
   "execution_count": 19,
   "id": "8a2e68c1-f6d6-4d6f-832a-9313e4c86dd4",
   "metadata": {},
   "outputs": [],
   "source": [
    "object_columns = df.select_dtypes(include=['object'])"
   ]
  },
  {
   "cell_type": "markdown",
   "id": "f126a1c9-6004-4424-a675-7b45b9d1052d",
   "metadata": {},
   "source": [
    "Membuat variabel **attributes_names** untuk menampung semua nama kolom dan dibuat list dan membuat variabel **info_dict** untuk menampung semua nama kolom(key) dan jumlah nilai(value)"
   ]
  },
  {
   "cell_type": "code",
   "execution_count": 20,
   "id": "e5013e0e-bc88-4f59-95d1-70b302278f65",
   "metadata": {},
   "outputs": [],
   "source": [
    "attributes_names = object_columns.columns.tolist()\n",
    "info_dict = {}"
   ]
  },
  {
   "cell_type": "markdown",
   "id": "e66bf9e9-fde5-4ac4-8389-2dd5edf538fc",
   "metadata": {},
   "source": [
    "Menggunakan perulangan untuk memasukkan semua nama kolom ke dalam variabel **info_dict** sebagai key dan jumlah nilai menjadi value nya"
   ]
  },
  {
   "cell_type": "code",
   "execution_count": 21,
   "id": "c4424509-fca7-409c-ba60-9b6f09bacca9",
   "metadata": {},
   "outputs": [],
   "source": [
    "for column in attributes_names:\n",
    "    info_dict[column] = df[column].value_counts()"
   ]
  },
  {
   "cell_type": "markdown",
   "id": "d1d48181-3050-4746-b15a-e53cbd5e4613",
   "metadata": {},
   "source": [
    "Perulangan untuk menampilkan data yang ada di variabel **info_dict**"
   ]
  },
  {
   "cell_type": "code",
   "execution_count": 22,
   "id": "845bef98-44e1-49b9-b544-291164508040",
   "metadata": {},
   "outputs": [
    {
     "name": "stdout",
     "output_type": "stream",
     "text": [
      "\n",
      "======================================================\n",
      "1| MUNICIPALITY NAME \n",
      "------------------------------------------------------\n",
      "Antwerpen     1293\n",
      "Brussel       1257\n",
      "Luik          1253\n",
      "Charleroi     1238\n",
      "Schaarbeek    1224\n",
      "              ... \n",
      "Herbeumont     440\n",
      "Horebeke       428\n",
      "Daverdisse     423\n",
      "Mesen          411\n",
      "Herstappe       79\n",
      "Name: MUNICIPALITY NAME, Length: 589, dtype: int64\n",
      "\n",
      "======================================================\n",
      "2| DISTRICT NAME \n",
      "------------------------------------------------------\n",
      " Halle-Vilvoorde      29061\n",
      " Antwerpen            25681\n",
      " Leuven               22803\n",
      " Turnhout             22149\n",
      " Nijvel               22119\n",
      " Verviers             21663\n",
      " Luik                 21625\n",
      " Brussel-Hoofdstad    21425\n",
      " Gent                 15786\n",
      " Hasselt              14914\n",
      " Charleroi            13179\n",
      " Namen                12326\n",
      " Maaseik              12020\n",
      " Bergen               11392\n",
      " Mechelen             10854\n",
      " Thuin                10645\n",
      " Hoei                 10592\n",
      " Dinant               10050\n",
      " Tongeren              9962\n",
      " Kortrijk              9453\n",
      " Borgworm              8283\n",
      " Aalst                 8249\n",
      " Doornik               8068\n",
      " Brugge                8064\n",
      " Dendermonde           7857\n",
      " Neufchâteau           7279\n",
      " Oudenaarde            7123\n",
      " Zinnik                7068\n",
      " Virton                6440\n",
      " Sint-Niklaas          6348\n",
      " Tielt                 6262\n",
      " Roeselare             5884\n",
      " Aat                   5841\n",
      " Ieper                 5695\n",
      " Oostende              5677\n",
      " Marche-en-Famenne     5619\n",
      " Bastenaken            4956\n",
      " Philippeville         4933\n",
      " Eeklo                 4736\n",
      " Veurne                3944\n",
      " Aarlen                3932\n",
      " Diksmuide             3270\n",
      " Moeskroen             2191\n",
      "Name: DISTRICT NAME, dtype: int64\n",
      "\n",
      "======================================================\n",
      "3| PROVINCE NAME \n",
      "------------------------------------------------------\n",
      " Luik               62163\n",
      " Antwerpen          58684\n",
      " Henegouwen         58384\n",
      " Vlaams-Brabant     51864\n",
      " Oost-Vlaanderen    50099\n",
      " West-Vlaanderen    48249\n",
      " Limburg            36896\n",
      " Luxemburg          28226\n",
      " Namen              27309\n",
      " Waals-Brabant      22119\n",
      "Name: PROVINCE NAME, dtype: int64\n",
      "\n",
      "======================================================\n",
      "4| REGION NAME \n",
      "------------------------------------------------------\n",
      "Flemish Region             245792\n",
      "Walloon Region             198201\n",
      "Brussels-Capital Region     21425\n",
      "Name: REGION NAME, dtype: int64\n",
      "\n",
      "======================================================\n",
      "5| GENDER \n",
      "------------------------------------------------------\n",
      "F    239526\n",
      "M    225892\n",
      "Name: GENDER, dtype: int64\n",
      "\n",
      "======================================================\n",
      "6| NATIONALITY \n",
      "------------------------------------------------------\n",
      "Belgian    309736\n",
      "Alien      155682\n",
      "Name: NATIONALITY, dtype: int64\n",
      "\n",
      "======================================================\n",
      "7| CIVIL CODE STATUS \n",
      "------------------------------------------------------\n",
      "Single      161782\n",
      "Married     137432\n",
      "Divorced     92690\n",
      "Widow        73514\n",
      "Name: CIVIL CODE STATUS, dtype: int64\n"
     ]
    }
   ],
   "source": [
    "i = 1\n",
    "for key, value in info_dict.items():\n",
    "    # print(\"------------------------------------------------------\")\n",
    "    print(\"\\n======================================================\")\n",
    "    print(f\"{i}| {key} \\n------------------------------------------------------\\n{value}\")\n",
    "    i+=1"
   ]
  }
 ],
 "metadata": {
  "kernelspec": {
   "display_name": "Ikhwan_066",
   "language": "python",
   "name": "ikhwan_066"
  },
  "language_info": {
   "codemirror_mode": {
    "name": "ipython",
    "version": 3
   },
   "file_extension": ".py",
   "mimetype": "text/x-python",
   "name": "python",
   "nbconvert_exporter": "python",
   "pygments_lexer": "ipython3",
   "version": "3.10.7"
  }
 },
 "nbformat": 4,
 "nbformat_minor": 5
}
