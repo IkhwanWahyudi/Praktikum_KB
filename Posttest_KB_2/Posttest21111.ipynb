{
 "cells": [
  {
   "cell_type": "markdown",
   "id": "713237a9-f89e-40a6-90e4-da85678e52d8",
   "metadata": {},
   "source": [
    "# Link Dataset\n",
    "\n",
    "Dikarenakan ukuran dataset yang terlalu besar(42MB), maka untuk dataset saya upload di gdrive, berikut link Gdrive dataset:\n",
    "\n",
    "[Belgium Population Classification](https://drive.google.com/file/d/1WGAMXm3Pkl7sp2xvdJQPbsOa4Z-MpESc/view?usp=sharing)"
   ]
  },
  {
   "cell_type": "markdown",
   "id": "4a88eff4-7c87-4ffa-8c70-923f95ae2908",
   "metadata": {},
   "source": [
    "# Import pandas dan membaca file csv menggunakan encoding 'latin-1'\n",
    "\n",
    "Encoding default membaca file csv yang digunakan pandas adalah **'UTF-8'**, mengubah encoding pandas menjadi **'latin-1'** agar file bisa dibaca oleh pandas"
   ]
  },
  {
   "cell_type": "code",
   "execution_count": null,
   "id": "546deac7-beea-4024-a664-d869794de40a",
   "metadata": {
    "scrolled": true
   },
   "outputs": [],
   "source": [
    "import pandas as pd\n",
    "\n",
    "df = pd.read_csv(\"BELGIUM_POPULATION_STRUCTURE_2018.csv\", encoding='latin-1')"
   ]
  },
  {
   "cell_type": "markdown",
   "id": "8c48a803-1c0c-4160-8de0-83010a2204f8",
   "metadata": {},
   "source": [
    "# Memilah kolom yang bertipe data angka \n",
    "\n",
    "Membuat variabel **numeric_columns** untuk menampung dataset, dataset akan dipilah menggunakan *\"select_dtypes(include=['number'])\"* sehingga hanya memilih kolom yang bertipe numerik"
   ]
  },
  {
   "cell_type": "code",
   "execution_count": null,
   "id": "7ced12a7-221c-43e8-ab8a-6dd465ce3a42",
   "metadata": {},
   "outputs": [],
   "source": [
    "numeric_columns = df.select_dtypes(include=['number'])"
   ]
  },
  {
   "cell_type": "markdown",
   "id": "cdeb32c4-7bb5-4472-8b80-710d5e2bedcc",
   "metadata": {},
   "source": [
    "# Menampilkan statistik dataset yang bertipe numerik\n",
    "\n",
    "1. Membuat variabel **stats** untuk menampung statistik dataset yang bertipe numerik\n",
    "2. Mengisi value variabel **stats** dengan *\"numeric_columns.describe()\"* untuk menampilkan statistik dataset yang bertipe numerik"
   ]
  },
  {
   "cell_type": "code",
   "execution_count": null,
   "id": "36f7fbfc-bdb4-4124-8b93-b09d2ccbc515",
   "metadata": {},
   "outputs": [],
   "source": [
    "stats = numeric_columns.describe()"
   ]
  },
  {
   "cell_type": "markdown",
   "id": "ca514018-d40e-4999-a661-3d4377e0ac42",
   "metadata": {},
   "source": [
    "## Menampilkan Rata Rata\n",
    "\n",
    "Menggunakan *\".loc['mean']\"* pada variabel **stats**"
   ]
  },
  {
   "cell_type": "code",
   "execution_count": null,
   "id": "a97a9c8c-27de-4f86-9561-59837481325f",
   "metadata": {},
   "outputs": [],
   "source": [
    "print(\"Rata-rata:\")\n",
    "print(stats.loc['mean'])"
   ]
  },
  {
   "cell_type": "markdown",
   "id": "669d91c8-d426-4529-829d-59114b8201a2",
   "metadata": {},
   "source": [
    "## Menampilkan Standar Deviasi\n",
    "\n",
    "Menggunakan *\".loc['std']\"* pada variabel **stats**"
   ]
  },
  {
   "cell_type": "code",
   "execution_count": null,
   "id": "12a494da-a591-4b0c-9cb6-b9d9e4a0f610",
   "metadata": {},
   "outputs": [],
   "source": [
    "print(\"Standar Deviasi:\")\n",
    "print(stats.loc['std'])"
   ]
  },
  {
   "cell_type": "markdown",
   "id": "45a5d7ea-d89b-4c96-9d3b-e77cd4df6ca1",
   "metadata": {},
   "source": [
    "## Menampilkan Nilai Minimum\n",
    "\n",
    "Menggunakan *\".loc['min']\"* pada variabel **stats**"
   ]
  },
  {
   "cell_type": "code",
   "execution_count": null,
   "id": "ced52a78-e88b-4ec5-896e-91300f7fce4b",
   "metadata": {},
   "outputs": [],
   "source": [
    "print(\"Nilai Minimum:\")\n",
    "print(stats.loc['min'])"
   ]
  },
  {
   "cell_type": "markdown",
   "id": "944d3d14-512f-4e61-8642-073d67e6fb4b",
   "metadata": {},
   "source": [
    "## Menampilkan Nilai Maksimum\n",
    "\n",
    "Menggunakan *\".loc['max']\"* pada variabel **stats**"
   ]
  },
  {
   "cell_type": "code",
   "execution_count": null,
   "id": "7c758a51-4edb-4ee0-bbe5-fe40ec33cf57",
   "metadata": {},
   "outputs": [],
   "source": [
    "print(\"Nilai Maksimum:\")\n",
    "print(stats.loc['max'])"
   ]
  },
  {
   "cell_type": "markdown",
   "id": "cbeb7d1e-434b-46a9-8a23-7cfe374be28a",
   "metadata": {},
   "source": [
    "## Menampilkan Kuartil Pertama(Q1)\n",
    "\n",
    "Menggunakan *\".quantile(0.25)\"* pada variabel **numeric_columns** untuk menampilkan 25% data terendah"
   ]
  },
  {
   "cell_type": "code",
   "execution_count": null,
   "id": "55b91452-5ed9-4f4d-81cc-80556cf013cd",
   "metadata": {},
   "outputs": [],
   "source": [
    "print(\"Kuartil Pertama (Q1):\")\n",
    "print(numeric_columns.quantile(0.25))"
   ]
  },
  {
   "cell_type": "markdown",
   "id": "08824cec-83b9-4c31-af36-5a9b88475069",
   "metadata": {},
   "source": [
    "## Menampilkan Kuartil Kedua(Q2)\n",
    "\n",
    "*\".loc['50%']\"* pada variabel **stats** untuk menampilkan median atau kuartil kedua(Q2)"
   ]
  },
  {
   "cell_type": "code",
   "execution_count": null,
   "id": "d884ba07-8aff-47e0-8cf0-f0af8fb89575",
   "metadata": {},
   "outputs": [],
   "source": [
    "print(\"Kuartil Kedua (Q2 atau Median):\")\n",
    "print(stats.loc['50%'])"
   ]
  },
  {
   "cell_type": "markdown",
   "id": "33a19d0d-66f6-40f3-94e9-485aca62c03f",
   "metadata": {},
   "source": [
    "## Menampilkan Kuartil Ketiga(Q3)\n",
    "\n",
    "Menggunakan *\".quantile(0.75)\"* pada variabel **numeric_stats** untuk menampilkan 25% data tertinggi"
   ]
  },
  {
   "cell_type": "code",
   "execution_count": null,
   "id": "02f5fdf3-c65b-4291-a210-be7bd93a085f",
   "metadata": {},
   "outputs": [],
   "source": [
    "print(\"Kuartil Ketiga (Q3):\")\n",
    "print(numeric_columns.quantile(0.75))"
   ]
  },
  {
   "cell_type": "markdown",
   "id": "3552df01-b582-4f90-92ea-c4710d54336b",
   "metadata": {},
   "source": [
    "# Menampilkan 10 record pertama dari dataset dengan attribute bertipe angka.\n",
    "\n",
    "Menggunakan *'head(10)'* pada variabel **numeric_stats** untuk menampilkan 10 data pertama yang bertipe angka"
   ]
  },
  {
   "cell_type": "code",
   "execution_count": null,
   "id": "c0d95d2b-27d2-4609-8beb-41bfac789540",
   "metadata": {},
   "outputs": [],
   "source": [
    "print(numeric_columns.head(10))"
   ]
  },
  {
   "cell_type": "markdown",
   "id": "90a40d29-614b-4895-9ff6-7c1ac6b1dfc2",
   "metadata": {},
   "source": [
    "# Menampilkan informasi jumlah record, jumlah attribute, nama attribute, jumlah attribute dengan tipe angka."
   ]
  },
  {
   "cell_type": "markdown",
   "id": "a232f527-9a0e-414c-9624-c2dc88528605",
   "metadata": {},
   "source": [
    "Membuat variabel **total_records** untuk menampung jumlah record keseluruhan"
   ]
  },
  {
   "cell_type": "code",
   "execution_count": null,
   "id": "50414267-1949-4562-821e-7d4f762ceea6",
   "metadata": {},
   "outputs": [],
   "source": [
    "total_records = len(df)"
   ]
  },
  {
   "cell_type": "markdown",
   "id": "3a891f1f-13a3-4f4f-8660-68a172f7aa22",
   "metadata": {},
   "source": [
    "Membuat variabel **total_attributes** untuk menampung jumlah attribute keseluruhan"
   ]
  },
  {
   "cell_type": "code",
   "execution_count": null,
   "id": "2ca6345a-e486-4844-b841-dc9e03073c20",
   "metadata": {},
   "outputs": [],
   "source": [
    "total_attributes = df.shape[1]"
   ]
  },
  {
   "cell_type": "markdown",
   "id": "e07afa29-79ba-47d6-8306-2c4c1f344bea",
   "metadata": {},
   "source": [
    "Membuat variabel **attributes** untuk menampung semua nama kolom dalam bentuk list"
   ]
  },
  {
   "cell_type": "code",
   "execution_count": null,
   "id": "c759c815-40d5-481a-964f-085dcced5d6a",
   "metadata": {},
   "outputs": [],
   "source": [
    "attributes = df.columns.tolist()"
   ]
  },
  {
   "cell_type": "markdown",
   "id": "57a27871-8fd3-495a-8767-8742356d48f0",
   "metadata": {},
   "source": [
    "Membuat variabel **total_numeric_attributes** untuk menampung jumlah semua kolom yang bertipe numerik/angka"
   ]
  },
  {
   "cell_type": "code",
   "execution_count": null,
   "id": "6361fb76-09b9-414c-9259-1d95a2b6d01a",
   "metadata": {},
   "outputs": [],
   "source": [
    "total_numeric_attributes = len(df.select_dtypes(include=['number']).columns)"
   ]
  },
  {
   "cell_type": "markdown",
   "id": "89f28e0b-0774-4691-b9e1-ef4282c8d9a8",
   "metadata": {},
   "source": [
    "Membuat variabel **info_dict** bertipe dictionary untuk menampung semua data dengan \"Jumlah Record\", \"Jumlah Attribute\", \"Nama Attribute\", \"Jumlah Attribute Numerik\" sebagai key dan valuenya adalah variabel-variabel yang telah dibuat sebelumnya, pada value dari key \"Nama Attribute\" terdapat *\", \\n\".join(attributes)*, ini digunakan untuk menghilangkan format penampilan data oleh variabel yang bertipe list."
   ]
  },
  {
   "cell_type": "code",
   "execution_count": null,
   "id": "e2b576d9-320d-44a6-949f-3dd42fa181d1",
   "metadata": {},
   "outputs": [],
   "source": [
    "info_dict = {\n",
    "    \"Jumlah Record\" : total_records,\n",
    "    \"Jumlah Attribute\" : total_attributes,\n",
    "    \"Nama Attribute\" : \", \\n\".join(attributes),\n",
    "    \"Jumlah Attribute Numerik\" : total_numeric_attributes\n",
    "}\n",
    "\n",
    "i = 1\n",
    "for key, value in info_dict.items():\n",
    "    print(\"==========================================\")\n",
    "    if key == \"Nama Attribute\":\n",
    "        print(f\"{i} | {key} : \\n{value}\")\n",
    "    else:\n",
    "        print(f\"{i} | {key} : {value}\")    \n",
    "    i+=1\n",
    "    \n",
    "print(\"==========================================\")"
   ]
  },
  {
   "cell_type": "markdown",
   "id": "b35eb40f-5b3b-4bdf-bbff-333843e61710",
   "metadata": {},
   "source": [
    "# Menampilkan nilai dataset pada baris yang dimulai dari 3 digit NIM akhir(066) hingga data terakhir dan kolom ke 4 hingga kolom terakhir menggunakan ke 2 metode slice."
   ]
  },
  {
   "cell_type": "markdown",
   "id": "fd3d8e09-0592-482c-a82e-1e9e2e4e3fb6",
   "metadata": {},
   "source": [
    "Menggunakan metode *\".iloc[66:, 3:]\"* memanggil data ke-66 hingga akhir di kolom ke-4 hingga terakhir"
   ]
  },
  {
   "cell_type": "code",
   "execution_count": null,
   "id": "4068bf72-b38b-4ad9-b75e-4b7de049e9a5",
   "metadata": {},
   "outputs": [],
   "source": [
    "df.iloc[66:, 3:]"
   ]
  },
  {
   "cell_type": "markdown",
   "id": "657f97b6-4115-4949-b782-dc778cbb664e",
   "metadata": {},
   "source": [
    "Menggunakan metode *\".loc[66:, df.columns[3:]]\"* memanggil data ke-66 hingga akhir di kolom ke-4 hingga terakhir"
   ]
  },
  {
   "cell_type": "code",
   "execution_count": null,
   "id": "2e93235e-bea5-4ed1-aa9a-bc74a4330d87",
   "metadata": {},
   "outputs": [],
   "source": [
    "df.loc[66:, df.columns[3:]]"
   ]
  },
  {
   "cell_type": "markdown",
   "id": "4d60724a-1e93-432c-802c-c2fcdb9ec9be",
   "metadata": {},
   "source": [
    "# Menampilkan jumlah nilai dari semua attribute yang bernilai object"
   ]
  },
  {
   "cell_type": "markdown",
   "id": "d852e12a-8a89-4c63-80e4-810c3988bb64",
   "metadata": {},
   "source": [
    "Membuat variabel **object_columns** untuk menampung semua kolom yang bertipe object"
   ]
  },
  {
   "cell_type": "code",
   "execution_count": null,
   "id": "8a2e68c1-f6d6-4d6f-832a-9313e4c86dd4",
   "metadata": {},
   "outputs": [],
   "source": [
    "object_columns = df.select_dtypes(include=['object'])"
   ]
  },
  {
   "cell_type": "markdown",
   "id": "f126a1c9-6004-4424-a675-7b45b9d1052d",
   "metadata": {},
   "source": [
    "Membuat variabel **attributes_names** untuk menampung semua nama kolom dan dibuat list dan membuat variabel **info_dict** untuk menampung semua nama kolom(key) dan jumlah nilai(value)"
   ]
  },
  {
   "cell_type": "code",
   "execution_count": null,
   "id": "e5013e0e-bc88-4f59-95d1-70b302278f65",
   "metadata": {},
   "outputs": [],
   "source": [
    "attributes_names = object_columns.columns.tolist()\n",
    "info_dict = {}"
   ]
  },
  {
   "cell_type": "markdown",
   "id": "e66bf9e9-fde5-4ac4-8389-2dd5edf538fc",
   "metadata": {},
   "source": [
    "Menggunakan perulangan untuk memasukkan semua nama kolom ke dalam variabel **info_dict** sebagai key dan jumlah nilai menjadi value nya"
   ]
  },
  {
   "cell_type": "code",
   "execution_count": null,
   "id": "c4424509-fca7-409c-ba60-9b6f09bacca9",
   "metadata": {},
   "outputs": [],
   "source": [
    "for column in attributes_names:\n",
    "    info_dict[column] = df[column].value_counts()"
   ]
  },
  {
   "cell_type": "markdown",
   "id": "d1d48181-3050-4746-b15a-e53cbd5e4613",
   "metadata": {},
   "source": [
    "Perulangan untuk menampilkan data yang ada di variabel **info_dict**"
   ]
  },
  {
   "cell_type": "code",
   "execution_count": null,
   "id": "845bef98-44e1-49b9-b544-291164508040",
   "metadata": {},
   "outputs": [],
   "source": [
    "i = 1\n",
    "for key, value in info_dict.items():\n",
    "    # print(\"------------------------------------------------------\")\n",
    "    print(\"\\n======================================================\")\n",
    "    print(f\"{i}| {key} \\n------------------------------------------------------\\n{value}\")\n",
    "    i+=1"
   ]
  }
 ],
 "metadata": {
  "kernelspec": {
   "display_name": "Ikhwan_066",
   "language": "python",
   "name": "ikhwan_066"
  },
  "language_info": {
   "codemirror_mode": {
    "name": "ipython",
    "version": 3
   },
   "file_extension": ".py",
   "mimetype": "text/x-python",
   "name": "python",
   "nbconvert_exporter": "python",
   "pygments_lexer": "ipython3",
   "version": "3.10.7"
  }
 },
 "nbformat": 4,
 "nbformat_minor": 5
}
